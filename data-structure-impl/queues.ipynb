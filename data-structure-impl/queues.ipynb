{
 "cells": [
  {
   "cell_type": "code",
   "execution_count": 1,
   "metadata": {},
   "outputs": [
    {
     "name": "stdout",
     "output_type": "stream",
     "text": [
      "Queue contents (front to rear):\n",
      "1 -> 2 -> 3 -> None\n",
      "Front element (Peek): 1\n",
      "Dequeued element: 1\n",
      "Queue contents after dequeue:\n",
      "2 -> 3 -> None\n"
     ]
    }
   ],
   "source": [
    "class Node:\n",
    "    def __init__(self, data):\n",
    "        self.data = data\n",
    "        self.next = None\n",
    "\n",
    "class Queue:\n",
    "    def __init__(self):\n",
    "        self.front = None  # Pointer to the front of the queue\n",
    "        self.rear = None   # Pointer to the end of the queue\n",
    "        self.size = 0      # Keep track of the size\n",
    "\n",
    "    def enqueue(self, data):\n",
    "        new_node = Node(data)\n",
    "        if self.rear is None:  # If the queue is empty\n",
    "            self.front = self.rear = new_node\n",
    "        else:\n",
    "            self.rear.next = new_node  # Link the new node at the end\n",
    "            self.rear = new_node        # Update rear to the new node\n",
    "        self.size += 1\n",
    "\n",
    "    def dequeue(self):\n",
    "        if self.is_empty():\n",
    "            return None  # Queue is empty\n",
    "        dequeued_data = self.front.data\n",
    "        self.front = self.front.next  # Move front to the next node\n",
    "        if self.front is None:         # If the queue becomes empty\n",
    "            self.rear = None           # Update rear to None as well\n",
    "        self.size -= 1\n",
    "        return dequeued_data\n",
    "\n",
    "    def peek(self):\n",
    "        if self.is_empty():\n",
    "            return None  # Queue is empty\n",
    "        return self.front.data\n",
    "\n",
    "    def is_empty(self):\n",
    "        return self.size == 0\n",
    "\n",
    "    def display(self):\n",
    "        current = self.front\n",
    "        while current:\n",
    "            print(current.data, end=\" -> \")\n",
    "            current = current.next\n",
    "        print(\"None\")\n",
    "\n",
    "# Example Usage\n",
    "queue = Queue()\n",
    "queue.enqueue(1)\n",
    "queue.enqueue(2)\n",
    "queue.enqueue(3)\n",
    "\n",
    "print(\"Queue contents (front to rear):\")\n",
    "queue.display()\n",
    "\n",
    "print(\"Front element (Peek):\", queue.peek())\n",
    "\n",
    "print(\"Dequeued element:\", queue.dequeue())\n",
    "print(\"Queue contents after dequeue:\")\n",
    "queue.display()\n"
   ]
  }
 ],
 "metadata": {
  "kernelspec": {
   "display_name": "Python 3",
   "language": "python",
   "name": "python3"
  },
  "language_info": {
   "codemirror_mode": {
    "name": "ipython",
    "version": 3
   },
   "file_extension": ".py",
   "mimetype": "text/x-python",
   "name": "python",
   "nbconvert_exporter": "python",
   "pygments_lexer": "ipython3",
   "version": "3.10.4"
  }
 },
 "nbformat": 4,
 "nbformat_minor": 2
}
