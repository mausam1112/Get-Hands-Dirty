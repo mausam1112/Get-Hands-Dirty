{
 "cells": [
  {
   "cell_type": "code",
   "execution_count": 2,
   "metadata": {},
   "outputs": [
    {
     "name": "stdout",
     "output_type": "stream",
     "text": [
      "Stack contents (top to bottom):\n",
      "3 -> 2 -> 1 -> None\n",
      "Top element (Peek): 3\n",
      "Popped element: 3\n",
      "Stack contents after pop:\n",
      "2 -> 1 -> None\n"
     ]
    }
   ],
   "source": [
    "class Node:\n",
    "    def __init__(self, data) -> None:\n",
    "        self.data = data\n",
    "        self.next = None\n",
    "        \n",
    "\n",
    "class Stack:\n",
    "    def __init__(self) -> None:\n",
    "        self.top = None\n",
    "        self.size = 0\n",
    "        \n",
    "    def push(self, data):\n",
    "        new_node = Node(data)\n",
    "        \n",
    "        new_node.next = self.top\n",
    "        self.top = new_node\n",
    "        self.size += 1\n",
    "        \n",
    "    def pop(self):\n",
    "        if self.is_empty():\n",
    "            return None\n",
    "        \n",
    "        popped_data = self.top.data\n",
    "        self.top = self.top.next\n",
    "        self.size -= 1\n",
    "        return popped_data\n",
    "    \n",
    "    def peek(self):\n",
    "        if self.is_empty():\n",
    "            return None  # Stack is empty\n",
    "        return self.top.data\n",
    "        \n",
    "    def is_empty(self):\n",
    "        return self.size == 0\n",
    "    \n",
    "    def display(self):\n",
    "        current = self.top\n",
    "        while current:\n",
    "            print(current.data, end=\" -> \")\n",
    "            current = current.next\n",
    "        print(\"None\")\n",
    "\n",
    "\n",
    "stack = Stack()\n",
    "stack.push(1)\n",
    "stack.push(2)\n",
    "stack.push(3)\n",
    "\n",
    "print(\"Stack contents (top to bottom):\")\n",
    "stack.display()\n",
    "\n",
    "print(\"Top element (Peek):\", stack.peek())\n",
    "\n",
    "print(\"Popped element:\", stack.pop())\n",
    "print(\"Stack contents after pop:\")\n",
    "stack.display()"
   ]
  }
 ],
 "metadata": {
  "kernelspec": {
   "display_name": "Python 3",
   "language": "python",
   "name": "python3"
  },
  "language_info": {
   "codemirror_mode": {
    "name": "ipython",
    "version": 3
   },
   "file_extension": ".py",
   "mimetype": "text/x-python",
   "name": "python",
   "nbconvert_exporter": "python",
   "pygments_lexer": "ipython3",
   "version": "3.10.4"
  }
 },
 "nbformat": 4,
 "nbformat_minor": 2
}
