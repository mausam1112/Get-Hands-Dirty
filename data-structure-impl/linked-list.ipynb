{
 "cells": [
  {
   "cell_type": "code",
   "execution_count": 1,
   "metadata": {},
   "outputs": [],
   "source": [
    "class Node:\n",
    "    def __init__(self, data) -> None:\n",
    "        self.data = data\n",
    "        self.next = None"
   ]
  },
  {
   "cell_type": "code",
   "execution_count": 2,
   "metadata": {},
   "outputs": [
    {
     "name": "stdout",
     "output_type": "stream",
     "text": [
      "2 -> 1 -> None\n",
      "1 -> 2 -> None\n"
     ]
    }
   ],
   "source": [
    "class LinkedList:\n",
    "    def __init__(self) -> None:\n",
    "        self.head = None\n",
    "        \n",
    "    def add(self, data):\n",
    "        new_node = Node(data)\n",
    "        new_node.next = self.head\n",
    "        self.head = new_node\n",
    "    \n",
    "    def reverse(self):\n",
    "        prev = None\n",
    "        current = self.head\n",
    "        while current:\n",
    "            next_node = current.next\n",
    "            current.next = prev\n",
    "            prev = current\n",
    "            current = next_node\n",
    "        self.head = prev\n",
    "        \n",
    "    def display(self):\n",
    "        current = self.head\n",
    "        while current:\n",
    "            print(current.data, end=\" -> \")\n",
    "            current = current.next\n",
    "        # print(\"None\")\n",
    "        \n",
    "        \n",
    "\n",
    "l1 = LinkedList()\n",
    "\n",
    "l1.add(1)\n",
    "l1.add(2)\n",
    "\n",
    "print(l1.display())\n",
    "\n",
    "l1.reverse()\n",
    "print(l1.display())\n"
   ]
  },
  {
   "cell_type": "markdown",
   "metadata": {},
   "source": [
    "## Doubly linked list"
   ]
  },
  {
   "cell_type": "code",
   "execution_count": 3,
   "metadata": {},
   "outputs": [
    {
     "name": "stdout",
     "output_type": "stream",
     "text": [
      "Doubly Linked List (Forward):\n",
      "4 <-> 3 <-> 2 <-> 1 <-> None\n",
      "Doubly Linked List (Backward):\n",
      "1 <-> 2 <-> 3 <-> 4 <-> \n",
      "Element at index 1: 3\n"
     ]
    }
   ],
   "source": [
    "class Node:\n",
    "    def __init__(self, data) -> None:\n",
    "        self.data = data\n",
    "        self.next = None\n",
    "        self.prev = None\n",
    "        \n",
    "class DoublyLinkedList:\n",
    "    def __init__(self) -> None:\n",
    "        self.head = None\n",
    "        \n",
    "    def add(self, data):\n",
    "        new_node = Node(data)\n",
    "        \n",
    "        if self.head is None:\n",
    "            self.head = new_node\n",
    "        else:\n",
    "            new_node.next = self.head\n",
    "            self.head.prev = new_node\n",
    "            self.head = new_node\n",
    "            \n",
    "    def display_forward(self):\n",
    "        current = self.head\n",
    "        while current:\n",
    "            print(current.data, end=\" <-> \")\n",
    "            current = current.next\n",
    "        print(\"None\")\n",
    "        \n",
    "    def display_backward(self):\n",
    "        current = self.head\n",
    "        while current and current.next:\n",
    "            current= current.next\n",
    "        \n",
    "        while current:\n",
    "            print(current.data, end=\" <-> \")\n",
    "            current = current.prev\n",
    "        print()\n",
    "            \n",
    "    def access(self, idx):\n",
    "        current = self.head\n",
    "        \n",
    "        for _ in range(idx):\n",
    "            if current is None:\n",
    "                return None\n",
    "            current = current.next\n",
    "        \n",
    "        return current.data if current else None\n",
    "            \n",
    "\n",
    "dll = DoublyLinkedList()\n",
    "dll.add(1)\n",
    "dll.add(2)\n",
    "dll.add(3)\n",
    "dll.add(4)\n",
    "\n",
    "print(\"Doubly Linked List (Forward):\")\n",
    "dll.display_forward()\n",
    "\n",
    "print(\"Doubly Linked List (Backward):\")\n",
    "dll.display_backward()\n",
    "\n",
    "index_to_access = 1\n",
    "print(f\"Element at index {index_to_access}: {dll.access(index_to_access)}\")"
   ]
  },
  {
   "cell_type": "code",
   "execution_count": 4,
   "metadata": {},
   "outputs": [
    {
     "name": "stdout",
     "output_type": "stream",
     "text": [
      "Cyclic Linked List:\n",
      "1 -> 2 -> 3 -> 4 -> ... (circular)\n"
     ]
    }
   ],
   "source": [
    "class Node:\n",
    "    def __init__(self, data):\n",
    "        self.data = data\n",
    "        self.next = None  # Pointer to the next node\n",
    "\n",
    "class CyclicLinkedList:\n",
    "    def __init__(self):\n",
    "        self.head = None\n",
    "\n",
    "    def add(self, data):\n",
    "        new_node = Node(data)\n",
    "        if self.head is None:  # If the list is empty\n",
    "            self.head = new_node\n",
    "            new_node.next = self.head  # Point to itself\n",
    "        else:\n",
    "            current = self.head\n",
    "            while current.next != self.head:  # Traverse to the last node\n",
    "                current = current.next\n",
    "            current.next = new_node  # Link last node to new node\n",
    "            new_node.next = self.head  # Point new node to head\n",
    "\n",
    "    def display(self, count=None):\n",
    "        if self.head is None:\n",
    "            print(\"List is empty.\")\n",
    "            return\n",
    "\n",
    "        current = self.head\n",
    "        if count is None:\n",
    "            count = 10  # Default number of nodes to display\n",
    "\n",
    "        for _ in range(count):  # Display a limited number of nodes to prevent infinite loop\n",
    "            print(current.data, end=\" -> \")\n",
    "            current = current.next\n",
    "            if current == self.head:  # Stop if we complete a cycle\n",
    "                break\n",
    "        print(\"... (circular)\")\n",
    "\n",
    "# Example Usage\n",
    "cll = CyclicLinkedList()\n",
    "cll.add(1)\n",
    "cll.add(2)\n",
    "cll.add(3)\n",
    "cll.add(4)\n",
    "\n",
    "print(\"Cyclic Linked List:\")\n",
    "cll.display(count=8)  # Display 8 elements to demonstrate cyclic nature\n"
   ]
  }
 ],
 "metadata": {
  "kernelspec": {
   "display_name": "Python 3",
   "language": "python",
   "name": "python3"
  },
  "language_info": {
   "codemirror_mode": {
    "name": "ipython",
    "version": 3
   },
   "file_extension": ".py",
   "mimetype": "text/x-python",
   "name": "python",
   "nbconvert_exporter": "python",
   "pygments_lexer": "ipython3",
   "version": "3.12.9"
  }
 },
 "nbformat": 4,
 "nbformat_minor": 2
}
