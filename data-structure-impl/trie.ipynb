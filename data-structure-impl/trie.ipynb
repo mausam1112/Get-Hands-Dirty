{
 "cells": [
  {
   "cell_type": "code",
   "execution_count": 8,
   "metadata": {},
   "outputs": [
    {
     "name": "stdout",
     "output_type": "stream",
     "text": [
      "Search 'hello': True\n",
      "Search 'hel': False\n",
      "Starts with 'he': True\n",
      "Starts with 'hi': False\n"
     ]
    }
   ],
   "source": [
    "class TrieNode:\n",
    "    def __init__(self):\n",
    "        self.children = {}\n",
    "        self.is_end_of_word = False\n",
    "\n",
    "class Trie:\n",
    "    def __init__(self):\n",
    "        self.root = TrieNode()\n",
    "\n",
    "    def insert(self, word):\n",
    "        node = self.root\n",
    "        for char in word:\n",
    "            if char not in node.children:\n",
    "                node.children[char] = TrieNode()  # Create a new TrieNode if it doesn't exist\n",
    "            node = node.children[char]\n",
    "        node.is_end_of_word = True  # Mark the end of the word\n",
    "\n",
    "    def search(self, word):\n",
    "        node = self.root\n",
    "        for char in word:\n",
    "            if char not in node.children:\n",
    "                return False  # Not found\n",
    "            node = node.children[char]\n",
    "        return node.is_end_of_word  # Return True if it is a complete word\n",
    "\n",
    "    def starts_with(self, prefix):\n",
    "        node = self.root\n",
    "        for char in prefix:\n",
    "            if char not in node.children:\n",
    "                return False  # Prefix not found\n",
    "            node = node.children[char]\n",
    "        return True  # Prefix exists\n",
    "\n",
    "# Example Usage\n",
    "trie = Trie()\n",
    "trie.insert(\"hello\")\n",
    "trie.insert(\"hey\")\n",
    "trie.insert(\"helicopter\")\n",
    "\n",
    "print(\"Search 'hello':\", trie.search(\"hello\"))  # True\n",
    "print(\"Search 'hel':\", trie.search(\"hel\"))      # False\n",
    "print(\"Starts with 'he':\", trie.starts_with(\"he\"))  # True\n",
    "print(\"Starts with 'hi':\", trie.starts_with(\"hi\"))  # False\n"
   ]
  }
 ],
 "metadata": {
  "kernelspec": {
   "display_name": "Python 3",
   "language": "python",
   "name": "python3"
  },
  "language_info": {
   "codemirror_mode": {
    "name": "ipython",
    "version": 3
   },
   "file_extension": ".py",
   "mimetype": "text/x-python",
   "name": "python",
   "nbconvert_exporter": "python",
   "pygments_lexer": "ipython3",
   "version": "3.10.4"
  }
 },
 "nbformat": 4,
 "nbformat_minor": 2
}
