{
 "cells": [
  {
   "cell_type": "code",
   "execution_count": 1,
   "metadata": {},
   "outputs": [
    {
     "name": "stdout",
     "output_type": "stream",
     "text": [
      "Inorder Traversal of BST: [1, 2, 3, 4, 5]\n",
      "Node with value 3 found in BST.\n"
     ]
    }
   ],
   "source": [
    "class TreeNode:\n",
    "    def __init__(self, key):\n",
    "        self.left = None\n",
    "        self.right = None\n",
    "        self.val = key\n",
    "\n",
    "class BinarySearchTree:\n",
    "    def __init__(self):\n",
    "        self.root = None\n",
    "\n",
    "    def insert(self, key):\n",
    "        if self.root is None:\n",
    "            self.root = TreeNode(key)\n",
    "        else:\n",
    "            self._insert_recursively(self.root, key)\n",
    "\n",
    "    def _insert_recursively(self, node, key):\n",
    "        if key < node.val:\n",
    "            if node.left is None:\n",
    "                node.left = TreeNode(key)\n",
    "            else:\n",
    "                self._insert_recursively(node.left, key)\n",
    "        else:\n",
    "            if node.right is None:\n",
    "                node.right = TreeNode(key)\n",
    "            else:\n",
    "                self._insert_recursively(node.right, key)\n",
    "\n",
    "    def search(self, key):\n",
    "        return self._search_recursively(self.root, key)\n",
    "\n",
    "    def _search_recursively(self, node, key):\n",
    "        if node is None or node.val == key:\n",
    "            return node\n",
    "        if key < node.val:\n",
    "            return self._search_recursively(node.left, key)\n",
    "        return self._search_recursively(node.right, key)\n",
    "\n",
    "    def inorder_traversal(self):\n",
    "        result = []\n",
    "        self._inorder_helper(self.root, result)\n",
    "        return result\n",
    "\n",
    "    def _inorder_helper(self, node, result):\n",
    "        if node:\n",
    "            self._inorder_helper(node.left, result)\n",
    "            result.append(node.val)\n",
    "            self._inorder_helper(node.right, result)\n",
    "\n",
    "# Example Usage\n",
    "bst = BinarySearchTree()\n",
    "bst.insert(4)\n",
    "bst.insert(2)\n",
    "bst.insert(5)\n",
    "bst.insert(1)\n",
    "bst.insert(3)\n",
    "\n",
    "print(\"Inorder Traversal of BST:\", bst.inorder_traversal())\n",
    "\n",
    "search_key = 3\n",
    "found_node = bst.search(search_key)\n",
    "if found_node:\n",
    "    print(f\"Node with value {search_key} found in BST.\")\n",
    "else:\n",
    "    print(f\"Node with value {search_key} not found in BST.\")\n"
   ]
  }
 ],
 "metadata": {
  "kernelspec": {
   "display_name": "Python 3",
   "language": "python",
   "name": "python3"
  },
  "language_info": {
   "codemirror_mode": {
    "name": "ipython",
    "version": 3
   },
   "file_extension": ".py",
   "mimetype": "text/x-python",
   "name": "python",
   "nbconvert_exporter": "python",
   "pygments_lexer": "ipython3",
   "version": "3.10.4"
  }
 },
 "nbformat": 4,
 "nbformat_minor": 2
}
